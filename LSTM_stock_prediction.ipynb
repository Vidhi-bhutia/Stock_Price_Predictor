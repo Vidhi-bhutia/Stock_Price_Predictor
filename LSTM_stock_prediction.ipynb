{
 "cells": [
  {
   "cell_type": "code",
   "execution_count": 2,
   "metadata": {},
   "outputs": [],
   "source": [
    "import pandas as pd\n",
    "import numpy as np\n",
    "import yfinance as yf\n",
    "from datetime import date\n",
    "import matplotlib.pyplot as plt"
   ]
  },
  {
   "cell_type": "code",
   "execution_count": 3,
   "metadata": {},
   "outputs": [
    {
     "name": "stderr",
     "output_type": "stream",
     "text": [
      "[*********************100%%**********************]  1 of 1 completed\n"
     ]
    }
   ],
   "source": [
    "end = date.today()\n",
    "start = date(end.year - 20, end.month, end.day)\n",
    "stock_symbol = 'GOOG'\n",
    "data = yf.download(stock_symbol, start, end)"
   ]
  },
  {
   "cell_type": "code",
   "execution_count": 4,
   "metadata": {},
   "outputs": [],
   "source": [
    "data.reset_index(inplace=True)"
   ]
  },
  {
   "cell_type": "code",
   "execution_count": 5,
   "metadata": {},
   "outputs": [
    {
     "data": {
      "text/html": [
       "<div>\n",
       "<style scoped>\n",
       "    .dataframe tbody tr th:only-of-type {\n",
       "        vertical-align: middle;\n",
       "    }\n",
       "\n",
       "    .dataframe tbody tr th {\n",
       "        vertical-align: top;\n",
       "    }\n",
       "\n",
       "    .dataframe thead th {\n",
       "        text-align: right;\n",
       "    }\n",
       "</style>\n",
       "<table border=\"1\" class=\"dataframe\">\n",
       "  <thead>\n",
       "    <tr style=\"text-align: right;\">\n",
       "      <th></th>\n",
       "      <th>Date</th>\n",
       "      <th>Open</th>\n",
       "      <th>High</th>\n",
       "      <th>Low</th>\n",
       "      <th>Close</th>\n",
       "      <th>Adj Close</th>\n",
       "      <th>Volume</th>\n",
       "    </tr>\n",
       "  </thead>\n",
       "  <tbody>\n",
       "    <tr>\n",
       "      <th>0</th>\n",
       "      <td>2004-08-19</td>\n",
       "      <td>2.490664</td>\n",
       "      <td>2.591785</td>\n",
       "      <td>2.390042</td>\n",
       "      <td>2.499133</td>\n",
       "      <td>2.496292</td>\n",
       "      <td>897427216</td>\n",
       "    </tr>\n",
       "    <tr>\n",
       "      <th>1</th>\n",
       "      <td>2004-08-20</td>\n",
       "      <td>2.515820</td>\n",
       "      <td>2.716817</td>\n",
       "      <td>2.503118</td>\n",
       "      <td>2.697639</td>\n",
       "      <td>2.694573</td>\n",
       "      <td>458857488</td>\n",
       "    </tr>\n",
       "    <tr>\n",
       "      <th>2</th>\n",
       "      <td>2004-08-23</td>\n",
       "      <td>2.758411</td>\n",
       "      <td>2.826406</td>\n",
       "      <td>2.716070</td>\n",
       "      <td>2.724787</td>\n",
       "      <td>2.721690</td>\n",
       "      <td>366857939</td>\n",
       "    </tr>\n",
       "    <tr>\n",
       "      <th>3</th>\n",
       "      <td>2004-08-24</td>\n",
       "      <td>2.770615</td>\n",
       "      <td>2.779581</td>\n",
       "      <td>2.579581</td>\n",
       "      <td>2.611960</td>\n",
       "      <td>2.608991</td>\n",
       "      <td>306396159</td>\n",
       "    </tr>\n",
       "    <tr>\n",
       "      <th>4</th>\n",
       "      <td>2004-08-25</td>\n",
       "      <td>2.614201</td>\n",
       "      <td>2.689918</td>\n",
       "      <td>2.587302</td>\n",
       "      <td>2.640104</td>\n",
       "      <td>2.637103</td>\n",
       "      <td>184645512</td>\n",
       "    </tr>\n",
       "    <tr>\n",
       "      <th>...</th>\n",
       "      <td>...</td>\n",
       "      <td>...</td>\n",
       "      <td>...</td>\n",
       "      <td>...</td>\n",
       "      <td>...</td>\n",
       "      <td>...</td>\n",
       "      <td>...</td>\n",
       "    </tr>\n",
       "    <tr>\n",
       "      <th>4982</th>\n",
       "      <td>2024-06-05</td>\n",
       "      <td>176.535004</td>\n",
       "      <td>177.970001</td>\n",
       "      <td>175.289993</td>\n",
       "      <td>177.070007</td>\n",
       "      <td>176.868744</td>\n",
       "      <td>15233900</td>\n",
       "    </tr>\n",
       "    <tr>\n",
       "      <th>4983</th>\n",
       "      <td>2024-06-06</td>\n",
       "      <td>177.429993</td>\n",
       "      <td>178.710007</td>\n",
       "      <td>177.210007</td>\n",
       "      <td>178.350006</td>\n",
       "      <td>178.147278</td>\n",
       "      <td>14255800</td>\n",
       "    </tr>\n",
       "    <tr>\n",
       "      <th>4984</th>\n",
       "      <td>2024-06-07</td>\n",
       "      <td>178.460007</td>\n",
       "      <td>179.419998</td>\n",
       "      <td>175.789993</td>\n",
       "      <td>175.949997</td>\n",
       "      <td>175.750000</td>\n",
       "      <td>14716300</td>\n",
       "    </tr>\n",
       "    <tr>\n",
       "      <th>4985</th>\n",
       "      <td>2024-06-10</td>\n",
       "      <td>176.449997</td>\n",
       "      <td>178.470001</td>\n",
       "      <td>174.380005</td>\n",
       "      <td>176.630005</td>\n",
       "      <td>176.630005</td>\n",
       "      <td>17122200</td>\n",
       "    </tr>\n",
       "    <tr>\n",
       "      <th>4986</th>\n",
       "      <td>2024-06-11</td>\n",
       "      <td>177.720001</td>\n",
       "      <td>178.389999</td>\n",
       "      <td>175.440002</td>\n",
       "      <td>178.190002</td>\n",
       "      <td>178.190002</td>\n",
       "      <td>13652583</td>\n",
       "    </tr>\n",
       "  </tbody>\n",
       "</table>\n",
       "<p>4987 rows × 7 columns</p>\n",
       "</div>"
      ],
      "text/plain": [
       "           Date        Open        High         Low       Close   Adj Close  \\\n",
       "0    2004-08-19    2.490664    2.591785    2.390042    2.499133    2.496292   \n",
       "1    2004-08-20    2.515820    2.716817    2.503118    2.697639    2.694573   \n",
       "2    2004-08-23    2.758411    2.826406    2.716070    2.724787    2.721690   \n",
       "3    2004-08-24    2.770615    2.779581    2.579581    2.611960    2.608991   \n",
       "4    2004-08-25    2.614201    2.689918    2.587302    2.640104    2.637103   \n",
       "...         ...         ...         ...         ...         ...         ...   \n",
       "4982 2024-06-05  176.535004  177.970001  175.289993  177.070007  176.868744   \n",
       "4983 2024-06-06  177.429993  178.710007  177.210007  178.350006  178.147278   \n",
       "4984 2024-06-07  178.460007  179.419998  175.789993  175.949997  175.750000   \n",
       "4985 2024-06-10  176.449997  178.470001  174.380005  176.630005  176.630005   \n",
       "4986 2024-06-11  177.720001  178.389999  175.440002  178.190002  178.190002   \n",
       "\n",
       "         Volume  \n",
       "0     897427216  \n",
       "1     458857488  \n",
       "2     366857939  \n",
       "3     306396159  \n",
       "4     184645512  \n",
       "...         ...  \n",
       "4982   15233900  \n",
       "4983   14255800  \n",
       "4984   14716300  \n",
       "4985   17122200  \n",
       "4986   13652583  \n",
       "\n",
       "[4987 rows x 7 columns]"
      ]
     },
     "execution_count": 5,
     "metadata": {},
     "output_type": "execute_result"
    }
   ],
   "source": [
    "data"
   ]
  },
  {
   "cell_type": "code",
   "execution_count": 6,
   "metadata": {},
   "outputs": [],
   "source": [
    "ma_100_days = data['Close'].ewm(span=100, adjust=False).mean()\n",
    "#ma = moving average - based on last 100 days predict the price of 101 day"
   ]
  },
  {
   "cell_type": "code",
   "execution_count": 7,
   "metadata": {},
   "outputs": [
    {
     "data": {
      "image/png": "[encoded data removed]",
      "text/plain": [
       "<Figure size 576x432 with 1 Axes>"
      ]
     },
     "metadata": {
      "needs_background": "light"
     },
     "output_type": "display_data"
    }
   ],
   "source": [
    "plt.figure(figsize=(8,6))\n",
    "plt.plot(ma_100_days, 'r')\n",
    "plt.plot(data.Close, 'g')\n",
    "plt.show()"
   ]
  },
  {
   "cell_type": "code",
   "execution_count": 8,
   "metadata": {},
   "outputs": [],
   "source": [
    "ma_200_days = data['Close'].ewm(span=200, adjust=False).mean()"
   ]
  },
  {
   "cell_type": "code",
   "execution_count": 9,
   "metadata": {},
   "outputs": [
    {
     "data": {
      "image/png": "[encoded data removed]",
      "text/plain": [
       "<Figure size 576x432 with 1 Axes>"
      ]
     },
     "metadata": {
      "needs_background": "light"
     },
     "output_type": "display_data"
    }
   ],
   "source": [
    "plt.figure(figsize=(8,6))\n",
    "plt.plot(ma_100_days, 'r')\n",
    "plt.plot(ma_200_days, 'b')\n",
    "plt.plot(data.Close, 'g')\n",
    "plt.show()"
   ]
  },
  {
   "cell_type": "code",
   "execution_count": 10,
   "metadata": {},
   "outputs": [],
   "source": [
    "data.dropna(inplace=True)"
   ]
  },
  {
   "cell_type": "code",
   "execution_count": 11,
   "metadata": {},
   "outputs": [],
   "source": [
    "data_train = pd.DataFrame(data.Close[0: int(len(data)* 0.8)])\n",
    "data_test = pd.DataFrame(data.Close[int(len(data) * 0.80): len(data)])\n",
    "#80% is being used to train the model and 20% is being used to test the model"
   ]
  },
  {
   "cell_type": "code",
   "execution_count": 12,
   "metadata": {},
   "outputs": [
    {
     "data": {
      "text/plain": [
       "(3989, 998)"
      ]
     },
     "execution_count": 12,
     "metadata": {},
     "output_type": "execute_result"
    }
   ],
   "source": [
    "data_train.shape[0], data_test.shape[0]"
   ]
  },
  {
   "cell_type": "code",
   "execution_count": 13,
   "metadata": {},
   "outputs": [],
   "source": [
    "from sklearn.preprocessing import MinMaxScaler\n",
    "scaler = MinMaxScaler(feature_range=(0,1))"
   ]
  },
  {
   "cell_type": "code",
   "execution_count": 14,
   "metadata": {},
   "outputs": [],
   "source": [
    "data_train_scale = scaler.fit_transform(data_train)\n",
    "\n",
    "#scaling the training dataset between 0 and 1"
   ]
  },
  {
   "cell_type": "code",
   "execution_count": 15,
   "metadata": {},
   "outputs": [],
   "source": [
    "x = []\n",
    "y = []\n",
    "for i in range(100, data_train_scale.shape[0]):\n",
    "    x.append(data_train_scale[i-100:i])\n",
    "    y.append(data_train_scale[i, 0])"
   ]
  },
  {
   "cell_type": "code",
   "execution_count": 16,
   "metadata": {},
   "outputs": [],
   "source": [
    "x, y = np.array(x), np.array(y)"
   ]
  },
  {
   "cell_type": "code",
   "execution_count": 18,
   "metadata": {},
   "outputs": [],
   "source": [
    "from keras.layers import Dense, Dropout, LSTM\n",
    "from keras.models import Sequential"
   ]
  },
  {
   "cell_type": "code",
   "execution_count": 19,
   "metadata": {},
   "outputs": [
    {
     "name": "stdout",
     "output_type": "stream",
     "text": [
      "WARNING:tensorflow:From c:\\Users\\LENOVO\\AppData\\Local\\Programs\\Python\\Python39\\lib\\site-packages\\keras\\src\\backend.py:873: The name tf.get_default_graph is deprecated. Please use tf.compat.v1.get_default_graph instead.\n",
      "\n"
     ]
    }
   ],
   "source": [
    "model = Sequential()\n",
    "\n",
    "model.add(LSTM(units=50, activation='relu', return_sequences=True, input_shape=((x.shape[1], 1))))\n",
    "model.add(Dropout(0.2))\n",
    "\n",
    "#return_sequences = True means that output of one layer will become input for next layer so we dont write it for final layer as there is no next layer to pass it on\n",
    "#here we are making 4 layers where units define the number of neurons for every layer\n",
    "#relu is one kind of neural network parameter which will be passed to calculate RNN neural networks\n",
    "#dropout is used to prevent overfitting , 0.2 define that 20% of the data is malicious \n",
    "\n",
    "model.add(LSTM(units = 60, activation='relu', return_sequences=True))\n",
    "model.add(Dropout(0.3))\n",
    "\n",
    "model.add(LSTM(units = 80, activation='relu', return_sequences=True))\n",
    "model.add(Dropout(0.4))\n",
    "\n",
    "model.add(LSTM(units = 120, activation='relu'))\n",
    "model.add(Dropout(0.5))\n",
    "\n",
    "model.add(Dense(units = 1)) #to predict the closing price of the market"
   ]
  },
  {
   "cell_type": "code",
   "execution_count": 20,
   "metadata": {},
   "outputs": [
    {
     "name": "stdout",
     "output_type": "stream",
     "text": [
      "WARNING:tensorflow:From c:\\Users\\LENOVO\\AppData\\Local\\Programs\\Python\\Python39\\lib\\site-packages\\keras\\src\\optimizers\\__init__.py:309: The name tf.train.Optimizer is deprecated. Please use tf.compat.v1.train.Optimizer instead.\n",
      "\n"
     ]
    }
   ],
   "source": [
    "model.compile(optimizer = 'adam', loss = 'mean_squared_error')"
   ]
  },
  {
   "cell_type": "markdown",
   "metadata": {},
   "source": [
    "verbos = 1 is used for priniting of data\n",
    "batch_size is used to selected number of rows to be used\n",
    "epochs means number of time the model will get fitted"
   ]
  },
  {
   "cell_type": "code",
   "execution_count": null,
   "metadata": {},
   "outputs": [
    {
     "name": "stdout",
     "output_type": "stream",
     "text": [
      "Epoch 1/50\n",
      "WARNING:tensorflow:From c:\\Users\\LENOVO\\AppData\\Local\\Programs\\Python\\Python39\\lib\\site-packages\\keras\\src\\utils\\tf_utils.py:492: The name tf.ragged.RaggedTensorValue is deprecated. Please use tf.compat.v1.ragged.RaggedTensorValue instead.\n",
      "\n",
      "122/122 [==============================] - 28s 157ms/step - loss: 0.0170\n",
      "Epoch 2/50\n",
      "122/122 [==============================] - 22s 183ms/step - loss: 0.0050\n",
      "Epoch 3/50\n",
      "122/122 [==============================] - 21s 173ms/step - loss: 0.0041\n",
      "Epoch 4/50\n",
      "122/122 [==============================] - 21s 172ms/step - loss: 0.0040\n",
      "Epoch 5/50\n",
      "122/122 [==============================] - 18s 147ms/step - loss: 0.0035\n",
      "Epoch 6/50\n",
      "122/122 [==============================] - 18s 146ms/step - loss: 0.0033\n",
      "Epoch 7/50\n",
      "122/122 [==============================] - 20s 162ms/step - loss: 0.0030\n",
      "Epoch 8/50\n",
      "122/122 [==============================] - 18s 149ms/step - loss: 0.0031\n",
      "Epoch 9/50\n",
      "122/122 [==============================] - 20s 166ms/step - loss: 0.0027\n",
      "Epoch 10/50\n",
      "122/122 [==============================] - 24s 193ms/step - loss: 0.0028\n",
      "Epoch 11/50\n",
      "122/122 [==============================] - 22s 182ms/step - loss: 0.0024\n",
      "Epoch 12/50\n",
      "122/122 [==============================] - 32s 263ms/step - loss: 0.0023\n",
      "Epoch 13/50\n",
      "122/122 [==============================] - 23s 191ms/step - loss: 0.0026\n",
      "Epoch 14/50\n",
      "122/122 [==============================] - 22s 181ms/step - loss: 0.0023\n",
      "Epoch 15/50\n",
      "122/122 [==============================] - 21s 171ms/step - loss: 0.0021\n",
      "Epoch 16/50\n",
      "122/122 [==============================] - 24s 198ms/step - loss: 0.0020\n",
      "Epoch 17/50\n",
      "122/122 [==============================] - 23s 185ms/step - loss: 0.0021\n",
      "Epoch 18/50\n",
      "122/122 [==============================] - 23s 185ms/step - loss: 0.0020\n",
      "Epoch 19/50\n",
      "122/122 [==============================] - 22s 178ms/step - loss: 0.0019\n",
      "Epoch 20/50\n",
      "122/122 [==============================] - 24s 194ms/step - loss: 0.0020\n",
      "Epoch 21/50\n",
      "122/122 [==============================] - 22s 182ms/step - loss: 0.0018\n",
      "Epoch 22/50\n",
      "122/122 [==============================] - 21s 176ms/step - loss: 0.0020\n",
      "Epoch 23/50\n",
      "122/122 [==============================] - 24s 195ms/step - loss: 0.0019\n",
      "Epoch 24/50\n",
      "122/122 [==============================] - 25s 209ms/step - loss: 0.0020\n",
      "Epoch 25/50\n",
      "122/122 [==============================] - 27s 225ms/step - loss: 0.0019\n",
      "Epoch 26/50\n",
      "122/122 [==============================] - 24s 195ms/step - loss: 0.0020\n",
      "Epoch 27/50\n",
      "122/122 [==============================] - 21s 168ms/step - loss: 0.0021\n",
      "Epoch 28/50\n",
      "122/122 [==============================] - 19s 153ms/step - loss: 0.0021\n",
      "Epoch 29/50\n",
      "122/122 [==============================] - 18s 151ms/step - loss: 0.0018\n",
      "Epoch 30/50\n",
      "122/122 [==============================] - 23s 188ms/step - loss: 0.0020\n",
      "Epoch 31/50\n",
      "122/122 [==============================] - 20s 165ms/step - loss: 0.0020\n",
      "Epoch 32/50\n",
      "122/122 [==============================] - 20s 162ms/step - loss: 0.0020\n",
      "Epoch 33/50\n",
      "122/122 [==============================] - 21s 170ms/step - loss: 0.0017\n",
      "Epoch 34/50\n",
      "122/122 [==============================] - 26s 210ms/step - loss: 0.0018\n",
      "Epoch 35/50\n",
      "122/122 [==============================] - 21s 169ms/step - loss: 0.0017\n",
      "Epoch 36/50\n",
      "122/122 [==============================] - 20s 163ms/step - loss: 0.0017\n",
      "Epoch 37/50\n",
      "122/122 [==============================] - 22s 177ms/step - loss: 0.0018\n",
      "Epoch 38/50\n",
      "122/122 [==============================] - 31s 251ms/step - loss: 0.0017\n",
      "Epoch 39/50\n",
      "122/122 [==============================] - 24s 196ms/step - loss: 0.0018\n",
      "Epoch 40/50\n",
      "122/122 [==============================] - 18s 150ms/step - loss: 0.0018\n",
      "Epoch 41/50\n",
      "122/122 [==============================] - 22s 177ms/step - loss: 0.0019\n",
      "Epoch 42/50\n",
      "122/122 [==============================] - 23s 189ms/step - loss: 0.0017\n",
      "Epoch 43/50\n",
      "122/122 [==============================] - 22s 181ms/step - loss: 0.0019\n",
      "Epoch 44/50\n",
      "122/122 [==============================] - 22s 180ms/step - loss: 0.0018\n",
      "Epoch 45/50\n",
      "122/122 [==============================] - 22s 179ms/step - loss: 0.0017\n",
      "Epoch 46/50\n",
      "122/122 [==============================] - 24s 199ms/step - loss: 0.0017\n",
      "Epoch 47/50\n",
      "122/122 [==============================] - 28s 227ms/step - loss: 0.0018\n",
      "Epoch 48/50\n",
      "122/122 [==============================] - 26s 211ms/step - loss: 0.0018\n",
      "Epoch 49/50\n",
      "122/122 [==============================] - 27s 218ms/step - loss: 0.0019\n",
      "Epoch 50/50\n",
      "122/122 [==============================] - 28s 226ms/step - loss: 0.0017\n"
     ]
    },
    {
     "data": {
      "text/plain": [
       "<keras.src.callbacks.History at 0x184d8ce8910>"
      ]
     },
     "execution_count": 48,
     "metadata": {},
     "output_type": "execute_result"
    }
   ],
   "source": [
    "model.fit(x, y, epochs=50, batch_size=32, verbose=1)"
   ]
  },
  {
   "cell_type": "code",
   "execution_count": null,
   "metadata": {},
   "outputs": [
    {
     "name": "stdout",
     "output_type": "stream",
     "text": [
      "Model: \"sequential_1\"\n",
      "_________________________________________________________________\n",
      " Layer (type)                Output Shape              Param #   \n",
      "=================================================================\n",
      " lstm (LSTM)                 (None, 100, 50)           10400     \n",
      "                                                                 \n",
      " dropout (Dropout)           (None, 100, 50)           0         \n",
      "                                                                 \n",
      " lstm_1 (LSTM)               (None, 100, 60)           26640     \n",
      "                                                                 \n",
      " dropout_1 (Dropout)         (None, 100, 60)           0         \n",
      "                                                                 \n",
      " lstm_2 (LSTM)               (None, 100, 80)           45120     \n",
      "                                                                 \n",
      " dropout_2 (Dropout)         (None, 100, 80)           0         \n",
      "                                                                 \n",
      " lstm_3 (LSTM)               (None, 120)               96480     \n",
      "                                                                 \n",
      " dropout_3 (Dropout)         (None, 120)               0         \n",
      "                                                                 \n",
      " dense (Dense)               (None, 1)                 121       \n",
      "                                                                 \n",
      "=================================================================\n",
      "Total params: 178761 (698.29 KB)\n",
      "Trainable params: 178761 (698.29 KB)\n",
      "Non-trainable params: 0 (0.00 Byte)\n",
      "_________________________________________________________________\n"
     ]
    }
   ],
   "source": [
    "model.summary()"
   ]
  },
  {
   "cell_type": "code",
   "execution_count": null,
   "metadata": {},
   "outputs": [],
   "source": [
    "past_100_days = data_train.tail(100)"
   ]
  },
  {
   "cell_type": "code",
   "execution_count": null,
   "metadata": {},
   "outputs": [],
   "source": [
    "data_test = pd.concat([past_100_days, data_test], ignore_index=True)"
   ]
  },
  {
   "cell_type": "code",
   "execution_count": null,
   "metadata": {},
   "outputs": [],
   "source": [
    "data_test_scale = scaler.fit_transform(data_test)"
   ]
  },
  {
   "cell_type": "code",
   "execution_count": null,
   "metadata": {},
   "outputs": [],
   "source": [
    "x = []\n",
    "y = []\n",
    "for i in range(100, data_test_scale.shape[0]):\n",
    "    x.append(data_test_scale[i-100:i])\n",
    "    y.append(data_test_scale[i, 0])\n",
    "x, y = np.array(x), np.array(y)"
   ]
  },
  {
   "cell_type": "code",
   "execution_count": null,
   "metadata": {},
   "outputs": [
    {
     "name": "stdout",
     "output_type": "stream",
     "text": [
      "32/32 [==============================] - 5s 45ms/step\n"
     ]
    }
   ],
   "source": [
    "y_predict = model.predict(x)"
   ]
  },
  {
   "cell_type": "code",
   "execution_count": null,
   "metadata": {},
   "outputs": [],
   "source": [
    "scale = 1/scaler.scale_"
   ]
  },
  {
   "cell_type": "code",
   "execution_count": null,
   "metadata": {},
   "outputs": [],
   "source": [
    "y_predict = y_predict * scale"
   ]
  },
  {
   "cell_type": "code",
   "execution_count": null,
   "metadata": {},
   "outputs": [],
   "source": [
    "y = y * scale"
   ]
  },
  {
   "cell_type": "code",
   "execution_count": null,
   "metadata": {},
   "outputs": [
    {
     "data": {
      "image/png": "[encoded data removed]",
      "text/plain": [
       "<Figure size 720x576 with 1 Axes>"
      ]
     },
     "metadata": {
      "needs_background": "light"
     },
     "output_type": "display_data"
    }
   ],
   "source": [
    "plt.figure(figsize=(10, 8))\n",
    "plt.plot(y_predict, 'r', label = 'Predicted Price')\n",
    "plt.plot(y, 'g', label = 'Original Price')\n",
    "plt.xlabel(\"Time\")\n",
    "plt.ylabel(\"Price\")\n",
    "plt.legend()\n",
    "plt.show()"
   ]
  },
  {
   "cell_type": "code",
   "execution_count": null,
   "metadata": {},
   "outputs": [
    {
     "ename": "NameError",
     "evalue": "name 'model' is not defined",
     "output_type": "error",
     "traceback": [
      "\u001b[1;31m---------------------------------------------------------------------------\u001b[0m",
      "\u001b[1;31mNameError\u001b[0m                                 Traceback (most recent call last)",
      "\u001b[1;32m~\\AppData\\Local\\Temp/ipykernel_2572/3496473596.py\u001b[0m in \u001b[0;36m<module>\u001b[1;34m\u001b[0m\n\u001b[1;32m----> 1\u001b[1;33m \u001b[0mmodel\u001b[0m\u001b[1;33m.\u001b[0m\u001b[0msave\u001b[0m\u001b[1;33m(\u001b[0m\u001b[1;34m\"LSTM_Stock Prediction Model.keras\"\u001b[0m\u001b[1;33m)\u001b[0m\u001b[1;33m\u001b[0m\u001b[1;33m\u001b[0m\u001b[0m\n\u001b[0m",
      "\u001b[1;31mNameError\u001b[0m: name 'model' is not defined"
     ]
    }
   ],
   "source": [
    "model.save(\"Stock Prediction Model.keras\")"
   ]
  }
 ],
 "metadata": {
  "kernelspec": {
   "display_name": "Python 3",
   "language": "python",
   "name": "python3"
  },
  "language_info": {
   "codemirror_mode": {
    "name": "ipython",
    "version": 3
   },
   "file_extension": ".py",
   "mimetype": "text/x-python",
   "name": "python",
   "nbconvert_exporter": "python",
   "pygments_lexer": "ipython3",
   "version": "3.9.6"
  }
 },
 "nbformat": 4,
 "nbformat_minor": 2
}
